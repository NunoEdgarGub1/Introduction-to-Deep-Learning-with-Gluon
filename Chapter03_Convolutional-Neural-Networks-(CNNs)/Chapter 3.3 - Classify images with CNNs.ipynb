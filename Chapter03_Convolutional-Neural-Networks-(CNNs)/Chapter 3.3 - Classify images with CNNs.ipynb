{
 "cells": [
  {
   "cell_type": "markdown",
   "metadata": {},
   "source": [
    "# Chapter 3.3 - Classify images with CNNs\n",
    "\n",
    "* *Summary: End-to-end implementation and thought process for training a CNN to classify images*\n",
    "* *Duration: ~10 minutes (with NVIDIA 1080 Ti GPU)*\n",
    "* *Video: - (to be announced)*\n",
    "* *Slides: - (to be announced)*\n",
    "\n",
    "***\n",
    "\n",
    "In the last couple of years CNNs have been widely used both in research as in industry. The breaktrough of Convolutional Neural Networks was initiated by a number of research papers that outperformed human accuracy in the well known image competition ILSVRC (ImageNet Large-Scale Visual Recognition Challenge). In the competition, algorithms are scored for image classification and object detection at a large scale.\n",
    "\n",
    "CNNs are currently widely used in both research as real-world applications. This notebook will guide you through the steps of building a CNN for a image classification task. For this, we will use the MNIST dataset. In Chapter 2 we already introduced the MNIST dataset: a grayscale dataset with handwritten digits in the range from 0 to 9. With our neural network we were able to classify the images with 97.3% accuracy. In this notebook we will demonstate how a simple convolutional network can get an above-human accuracy of 99.4%."
   ]
  },
  {
   "cell_type": "markdown",
   "metadata": {},
   "source": [
    "## What will we do?\n",
    "Classify handwritten digits (MNIST dataset) with a Convolutional Neural Network (CNN). In this notebook we pay special attention to guide you through the thought process for using a CNN to classify images. **_No assumptions are made._** Therefore, EDA, model selection, and hyperparameter tuning are all included separately. This to make sure you understand each design choice made and help you when applying CNNs to your own projects.\n",
    "\n",
    "## What do I need ([installation guide](https://github.com/indradenbakker/Introduction-to-Deep-Learning-with-Gluon))?\n",
    "* MXNet 1.0\n",
    "* NumPy & Matplotlib\n",
    "* Python 3.6\n",
    "* GPU (recommended)\n",
    "\n",
    "---\n",
    "\n",
    "## Code example"
   ]
  },
  {
   "cell_type": "markdown",
   "metadata": {},
   "source": [
    "#### 1. We start with importing Gluon and all dependencies needed to run the code in this notebook. In addition we set the seed for reproducability:"
   ]
  },
  {
   "cell_type": "code",
   "execution_count": 44,
   "metadata": {
    "collapsed": true
   },
   "outputs": [],
   "source": [
    "from __future__ import print_function\n",
    "import numpy as np\n",
    "import matplotlib.pyplot as plt\n",
    "import mxnet as mx\n",
    "from mxnet import nd, autograd, gluon\n",
    "mx.random.seed(1)"
   ]
  },
  {
   "cell_type": "markdown",
   "metadata": {},
   "source": [
    "#### 2. In this notebook we enable GPU usage by using the following line to set the context. If you don't have a GPU, you can replace '`gpu`' with '`cpu`'."
   ]
  },
  {
   "cell_type": "code",
   "execution_count": 104,
   "metadata": {
    "collapsed": true
   },
   "outputs": [],
   "source": [
    "ctx = mx.cpu() # mx.cpu()"
   ]
  },
  {
   "cell_type": "markdown",
   "metadata": {},
   "source": [
    "#### 3. The load the MNIST dataset we can use '`test_utils`' from MXNet as follows:"
   ]
  },
  {
   "cell_type": "code",
   "execution_count": 25,
   "metadata": {
    "collapsed": true
   },
   "outputs": [],
   "source": [
    "from mxnet.test_utils import get_mnist\n",
    "data = get_mnist()"
   ]
  },
  {
   "cell_type": "markdown",
   "metadata": {},
   "source": [
    "Note: In many code examples for CNNs and the MNIST dataset one of the first steps is to load the MNIST dataset with a batch generator. This is done without any exploratory data analysis. This is highly unlikely to do in a real-world scenario. In this notebook we will follow the general steps without any assumptions, so that one can use this path for other problems.\n",
    "\n",
    "For other datasets you probably cannot use '`test_utils`'. Therefore, you can find code to load the raw MNIST dataset [here](https://github.com/indradenbakker/Introduction-to-Deep-Learning-with-Gluon)."
   ]
  },
  {
   "cell_type": "markdown",
   "metadata": {},
   "source": [
    "#### 4. To give us an idea of how the dataset looks like, let's plot some statistics:"
   ]
  },
  {
   "cell_type": "code",
   "execution_count": 101,
   "metadata": {
    "collapsed": false
   },
   "outputs": [
    {
     "name": "stdout",
     "output_type": "stream",
     "text": [
      "Training data shape: (60000, 1, 28, 28)\n",
      "Training data labels: (60000,)\n",
      "Test data shape: (10000, 1, 28, 28)\n",
      "Test data labels: (10000,)\n",
      "Number of unique labels in training set: 10\n",
      "\n",
      "Training example: min: 0.0, max: 1.0, mean: 0.1681\n"
     ]
    }
   ],
   "source": [
    "print('Training data shape: {}'.format(data['train_data'].shape))\n",
    "print('Training data labels: {}'.format(data['train_label'].shape))\n",
    "print('Test data shape: {}'.format(data['test_data'].shape))\n",
    "print('Test data labels: {}'.format(data['test_label'].shape))\n",
    "print('Number of unique labels in training set: {}'.format(len(set(data['train_label']))))\n",
    "\n",
    "# We randomly pick an example from the training set for some simple statistics\n",
    "data_example = data['train_data'][np.random.randint(0, len(data['train_data']))]\n",
    "print('\\nTraining example: min: {}, max: {}, mean: {:0.4f}'\n",
    "      .format(data_example.min(), data_example.max(), data_example.mean()))"
   ]
  },
  {
   "cell_type": "markdown",
   "metadata": {},
   "source": [
    "What we learn from the above output is:\n",
    "* we have 60K training images and 10K test images\n",
    "* each datapoint (image) has a 3D-shape: (channel, width, height)\n",
    "* the images have shape 28x28\n",
    "* our images are in grayscale, so as expected we only have 1 channel\n",
    "* the image pixels are normalized and scaled: [0, 1]"
   ]
  },
  {
   "cell_type": "markdown",
   "metadata": {},
   "source": [
    "#### 5. We can also output a random example of each handwritten digit and their count:"
   ]
  },
  {
   "cell_type": "code",
   "execution_count": 105,
   "metadata": {
    "collapsed": false
   },
   "outputs": [
    {
     "data": {
      "image/png": "[encoded data removed]",
      "text/plain": [
       "<matplotlib.figure.Figure at 0x11dd4b0f0>"
      ]
     },
     "metadata": {},
     "output_type": "display_data"
    }
   ],
   "source": [
    "X_train = data['train_data']\n",
    "y_train = data['train_label']\n",
    "\n",
    "# Plot first image of each label\n",
    "unique_labels = set(data['train_label'])\n",
    "n_labels = len(unique_labels)\n",
    "plt.figure(figsize=(15, 15))\n",
    "i = 1\n",
    "for label in unique_labels:\n",
    "    image = X_train[y_train.tolist().index(label)]\n",
    "    plt.subplot(n_labels, n_labels, i)\n",
    "    plt.axis('off')\n",
    "    plt.title(\"{0}: ({1})\".format(label, y_train.tolist().count(label)))\n",
    "    i += 1\n",
    "    # To plot grayscale images with Matplotlib 2D-arrays are expected\n",
    "    # So we use image[0] to create a 2D-array from the (1, w, h) format.\n",
    "    _ = plt.imshow(image[0], cmap='gray')\n",
    "plt.show()"
   ]
  },
  {
   "cell_type": "markdown",
   "metadata": {},
   "source": [
    "As we can see the data is almost evenly distributed. Therefore, we will keep the dataset as is and we won't be using any preprocessing steps."
   ]
  },
  {
   "cell_type": "markdown",
   "metadata": {},
   "source": [
    "#### 5. To evaluate our model during training we need to write a function. This function needs to iterate through the data and return the accuracy. As input, we will have a dataset iterator and the trained network.\n",
    "\n",
    "MXNet has a [Evaluation Metric API](https://mxnet.incubator.apache.org/api/python/metric.html) that includes all frequently used metrics, like accuracy and RMSE. \n",
    "\n",
    "In step x, we will show you how to set the data iterator. "
   ]
  },
  {
   "cell_type": "code",
   "execution_count": null,
   "metadata": {
    "collapsed": true
   },
   "outputs": [],
   "source": [
    "def evaluate_accuracy(data_iterator, net):\n",
    "    acc = mx.metric.Accuracy()\n",
    "    for i, (data, label) in enumerate(data_iterator):\n",
    "        data = data.as_in_context(ctx)\n",
    "        label = label.as_in_context(ctx)\n",
    "        output = net(data)\n",
    "        predictions = nd.argmax(output, axis=1)\n",
    "        acc.update(preds=predictions, labels=label)\n",
    "    return acc.get()[1]"
   ]
  },
  {
   "cell_type": "markdown",
   "metadata": {},
   "source": [
    "#### 6. After a quick look at the training data we can start building our CNN."
   ]
  },
  {
   "cell_type": "code",
   "execution_count": 102,
   "metadata": {
    "collapsed": true
   },
   "outputs": [],
   "source": [
    "net = gluon.nn.Sequential()\n",
    "with net.name_scope():\n",
    "    net.add(gluon.nn.Conv2D(channels=32, kernel_size=5, activation='relu'))\n",
    "    net.add(gluon.nn.MaxPool2D(pool_size=2, strides=2))            \n",
    "    net.add(gluon.nn.Conv2D(channels=64, kernel_size=5, activation='relu'))\n",
    "    net.add(gluon.nn.MaxPool2D(pool_size=2, strides=2))\n",
    "\n",
    "    net.add(gluon.nn.Flatten())\n",
    "    net.add(gluon.nn.Dense(512, activation=\"relu\"))\n",
    "    net.add(gluon.nn.Dense(n_labels))"
   ]
  },
  {
   "cell_type": "markdown",
   "metadata": {},
   "source": [
    "We start with a simple network architecture where we use 2 convolutional blocks with increasing number of channels. \n",
    "\n",
    "After the convolutional blocks, we flatten the output and feed the data to a fully connected layer with 512 units. \n",
    "\n",
    "We are trying to create a model to classify the handwritten digits. We have 10 unique labels in our training set, so our final layer should contain 10 units (1 for each label). "
   ]
  },
  {
   "cell_type": "markdown",
   "metadata": {},
   "source": [
    "#### 6. As explained in Chapter 2, the initialisation of the weights can be important. For our network, we use the popular [Xavier initialisation](http://proceedings.mlr.press/v9/glorot10a/glorot10a.pdf). In addtion, we use the defined context '`ctx`' to make sure the weights are placed on the GPU as well."
   ]
  },
  {
   "cell_type": "code",
   "execution_count": 103,
   "metadata": {
    "collapsed": false
   },
   "outputs": [],
   "source": [
    "net.collect_params().initialize(mx.init.Xavier(), ctx=ctx) #magnitude=2.24"
   ]
  },
  {
   "cell_type": "markdown",
   "metadata": {},
   "source": [
    "#### 7. Next, we need to define the loss function that we will use during training. For our multiclass classification problem, the Softmax cross-entropy loss is the logical choice. Softmax cross-entropy measures the probability error in a discrete classification tasks, where each training example only belongs to 1 class (the classes are mutually exclusive)."
   ]
  },
  {
   "cell_type": "code",
   "execution_count": 12,
   "metadata": {
    "collapsed": true
   },
   "outputs": [],
   "source": [
    "softmax_cross_entropy = gluon.loss.SoftmaxCrossEntropyLoss()"
   ]
  },
  {
   "cell_type": "markdown",
   "metadata": {},
   "source": [
    "#### 9. We will be using the Adam optimizer to train our network. Adam is a great choice, if you're just starting and have no idea which hyperparameters to use. It will give you a great benchmark to build upon further in a later stage."
   ]
  },
  {
   "cell_type": "code",
   "execution_count": 110,
   "metadata": {
    "collapsed": true
   },
   "outputs": [],
   "source": [
    "trainer = gluon.Trainer(net.collect_params(), 'adam') #'sgd', {'learning_rate': .1})"
   ]
  },
  {
   "cell_type": "markdown",
   "metadata": {},
   "source": [
    "#### We can now define the hyperparameters. We start with a relative low number of epochs, so that we can quickly see if our model is able to train correctly. "
   ]
  },
  {
   "cell_type": "code",
   "execution_count": 113,
   "metadata": {
    "collapsed": true
   },
   "outputs": [],
   "source": [
    "n_epochs = 4\n",
    "smoothing = .01\n",
    "batch_size = 64"
   ]
  },
  {
   "cell_type": "markdown",
   "metadata": {},
   "source": [
    "#### Instead of the loaded MNIST dataset, we will be using [Gluon dataset API](https://mxnet.incubator.apache.org/api/python/gluon/data.html)'s DataLoader to load and transform the data in batches while feeding the data to our network. First, we delete the loaded dataset to clean up the memory."
   ]
  },
  {
   "cell_type": "code",
   "execution_count": 115,
   "metadata": {
    "collapsed": false
   },
   "outputs": [],
   "source": [
    "# del data, data_example\n",
    "# num_inputs = 784\n",
    "# num_outputs = 10\n",
    "def transform(data, label):\n",
    "    return nd.transpose(data.astype(np.float32), (2,0,1)), label.astype(np.float32)\n",
    "train_data = gluon.data.DataLoader(gluon.data.vision.MNIST(train=True, transform=transform),\n",
    "                                      batch_size, shuffle=True)\n",
    "test_data = gluon.data.DataLoader(gluon.data.vision.MNIST(train=False, transform=transform),\n",
    "                                     batch_size, shuffle=False)"
   ]
  },
  {
   "cell_type": "markdown",
   "metadata": {},
   "source": [
    "#### We are now ready to start training our model for the first time. "
   ]
  },
  {
   "cell_type": "code",
   "execution_count": 116,
   "metadata": {
    "collapsed": false
   },
   "outputs": [
    {
     "name": "stdout",
     "output_type": "stream",
     "text": [
      "Epoch 0. Loss: 0.0839653457669, Train_acc 0.985183333333, Test_acc 0.9815\n",
      "Epoch 1. Loss: 0.0626324687575, Train_acc 0.988, Test_acc 0.9824\n",
      "Epoch 2. Loss: 0.0514723012598, Train_acc 0.9873, Test_acc 0.981\n",
      "Epoch 3. Loss: 0.0398709181185, Train_acc 0.99235, Test_acc 0.9875\n"
     ]
    }
   ],
   "source": [
    "for e in range(n_epochs):\n",
    "    for i, (data, label) in enumerate(train_data):\n",
    "        data = data.as_in_context(ctx)\n",
    "        label = label.as_in_context(ctx)\n",
    "        with autograd.record():\n",
    "            output = net(data)\n",
    "            loss = softmax_cross_entropy(output, label)\n",
    "        loss.backward()\n",
    "        trainer.step(data.shape[0])        \n",
    "        curr_loss = nd.mean(loss).asscalar()\n",
    "        \n",
    "    test_accuracy = evaluate_accuracy(test_data, net)\n",
    "    train_accuracy = evaluate_accuracy(train_data, net)\n",
    "    print(\"Epoch %s. Loss: %s, Train_acc %s, Test_acc %s\" % (e, curr_loss, train_accuracy, test_accuracy))"
   ]
  },
  {
   "cell_type": "markdown",
   "metadata": {},
   "source": [
    "Great! In just 4 epochs we were able to get a validation accuracy of 98.75%. This gives us confidence that our implementation works correctly and we can build further. \n",
    "\n",
    "What we see is the following:\n",
    "* Train accuracy is already 99.24% and by training our model for more epochs we can probably push the training accuracy further. \n",
    "* The validation accuracy stays a little bit behind: the difference in the 4th epoch is 0.485%. It's not a lot, but it can be a sign of overfitting on the training set. However, it's too soon to draw any conclusions. "
   ]
  },
  {
   "cell_type": "markdown",
   "metadata": {},
   "source": [
    "#### Let's implement early stopping to prevent overfitting on the training data and run our algorithm for more epochs."
   ]
  },
  {
   "cell_type": "code",
   "execution_count": 238,
   "metadata": {
    "collapsed": true
   },
   "outputs": [],
   "source": [
    "class earlyStopping():\n",
    "    def __init__(self, patience = 5, epoch_start = 0, best_loss = 1e100, minimize = True):\n",
    "        self.patience = patience\n",
    "        self.best_loss = best_loss if minimize else -best_loss\n",
    "        self.step = epoch_start\n",
    "        \n",
    "    def early_stopping(self, loss, e):\n",
    "        if (loss < self.best_loss):\n",
    "            self.step = 0\n",
    "            self.best_loss = loss\n",
    "        else:\n",
    "            self.step += 1\n",
    "        if self.step >= self.patience:\n",
    "            print(\"Early stopping after {} epochs with best loss {}\".format(e, self.best_loss))\n",
    "            return True\n",
    "        else: \n",
    "            return False"
   ]
  },
  {
   "cell_type": "markdown",
   "metadata": {},
   "source": [
    "#### We can now run our model with a callback for early stopping as follows:"
   ]
  },
  {
   "cell_type": "code",
   "execution_count": 237,
   "metadata": {
    "collapsed": false
   },
   "outputs": [
    {
     "name": "stdout",
     "output_type": "stream",
     "text": [
      "Epoch 1. Loss: 0.00268501, Train_acc 0.991633333333, Test_acc 0.9833\n",
      "Epoch 2. Loss: 0.00401691, Train_acc 0.99405, Test_acc 0.988\n",
      "Epoch 3. Loss: 0.0121798, Train_acc 0.986733333333, Test_acc 0.9804\n",
      "Early stopping after 3 epochs with loss 0.012179761193692684\n",
      "Epoch 4. Loss: 0.000267027, Train_acc 0.9899, Test_acc 0.9839\n"
     ]
    },
    {
     "ename": "KeyboardInterrupt",
     "evalue": "",
     "output_type": "error",
     "traceback": [
      "\u001b[0;31m---------------------------------------------------------------------------\u001b[0m",
      "\u001b[0;31mKeyboardInterrupt\u001b[0m                         Traceback (most recent call last)",
      "\u001b[0;32m<ipython-input-237-df1a579e276c>\u001b[0m in \u001b[0;36m<module>\u001b[0;34m()\u001b[0m\n\u001b[1;32m     12\u001b[0m         \u001b[0mloss\u001b[0m\u001b[0;34m.\u001b[0m\u001b[0mbackward\u001b[0m\u001b[0;34m(\u001b[0m\u001b[0;34m)\u001b[0m\u001b[0;34m\u001b[0m\u001b[0m\n\u001b[1;32m     13\u001b[0m         \u001b[0mtrainer\u001b[0m\u001b[0;34m.\u001b[0m\u001b[0mstep\u001b[0m\u001b[0;34m(\u001b[0m\u001b[0mdata\u001b[0m\u001b[0;34m.\u001b[0m\u001b[0mshape\u001b[0m\u001b[0;34m[\u001b[0m\u001b[0;36m0\u001b[0m\u001b[0;34m]\u001b[0m\u001b[0;34m,\u001b[0m \u001b[0;34m)\u001b[0m\u001b[0;34m\u001b[0m\u001b[0m\n\u001b[0;32m---> 14\u001b[0;31m         \u001b[0mcurr_loss\u001b[0m \u001b[0;34m=\u001b[0m \u001b[0mnd\u001b[0m\u001b[0;34m.\u001b[0m\u001b[0mmean\u001b[0m\u001b[0;34m(\u001b[0m\u001b[0mloss\u001b[0m\u001b[0;34m)\u001b[0m\u001b[0;34m.\u001b[0m\u001b[0masscalar\u001b[0m\u001b[0;34m(\u001b[0m\u001b[0;34m)\u001b[0m\u001b[0;34m\u001b[0m\u001b[0m\n\u001b[0m\u001b[1;32m     15\u001b[0m \u001b[0;34m\u001b[0m\u001b[0m\n\u001b[1;32m     16\u001b[0m     \u001b[0mtest_accuracy\u001b[0m \u001b[0;34m=\u001b[0m \u001b[0mevaluate_accuracy\u001b[0m\u001b[0;34m(\u001b[0m\u001b[0mtest_data\u001b[0m\u001b[0;34m,\u001b[0m \u001b[0mnet\u001b[0m\u001b[0;34m)\u001b[0m\u001b[0;34m\u001b[0m\u001b[0m\n",
      "\u001b[0;32m/Users/indradenbakker/anaconda3/lib/python3.6/site-packages/mxnet/ndarray/ndarray.py\u001b[0m in \u001b[0;36masscalar\u001b[0;34m(self)\u001b[0m\n\u001b[1;32m   1568\u001b[0m         \u001b[0;32mif\u001b[0m \u001b[0mself\u001b[0m\u001b[0;34m.\u001b[0m\u001b[0mshape\u001b[0m \u001b[0;34m!=\u001b[0m \u001b[0;34m(\u001b[0m\u001b[0;36m1\u001b[0m\u001b[0;34m,\u001b[0m\u001b[0;34m)\u001b[0m\u001b[0;34m:\u001b[0m\u001b[0;34m\u001b[0m\u001b[0m\n\u001b[1;32m   1569\u001b[0m             \u001b[0;32mraise\u001b[0m \u001b[0mValueError\u001b[0m\u001b[0;34m(\u001b[0m\u001b[0;34m\"The current array is not a scalar\"\u001b[0m\u001b[0;34m)\u001b[0m\u001b[0;34m\u001b[0m\u001b[0m\n\u001b[0;32m-> 1570\u001b[0;31m         \u001b[0;32mreturn\u001b[0m \u001b[0mself\u001b[0m\u001b[0;34m.\u001b[0m\u001b[0masnumpy\u001b[0m\u001b[0;34m(\u001b[0m\u001b[0;34m)\u001b[0m\u001b[0;34m[\u001b[0m\u001b[0;36m0\u001b[0m\u001b[0;34m]\u001b[0m\u001b[0;34m\u001b[0m\u001b[0m\n\u001b[0m\u001b[1;32m   1571\u001b[0m \u001b[0;34m\u001b[0m\u001b[0m\n\u001b[1;32m   1572\u001b[0m     \u001b[0;32mdef\u001b[0m \u001b[0mastype\u001b[0m\u001b[0;34m(\u001b[0m\u001b[0mself\u001b[0m\u001b[0;34m,\u001b[0m \u001b[0mdtype\u001b[0m\u001b[0;34m)\u001b[0m\u001b[0;34m:\u001b[0m\u001b[0;34m\u001b[0m\u001b[0m\n",
      "\u001b[0;32m/Users/indradenbakker/anaconda3/lib/python3.6/site-packages/mxnet/ndarray/ndarray.py\u001b[0m in \u001b[0;36masnumpy\u001b[0;34m(self)\u001b[0m\n\u001b[1;32m   1550\u001b[0m             \u001b[0mself\u001b[0m\u001b[0;34m.\u001b[0m\u001b[0mhandle\u001b[0m\u001b[0;34m,\u001b[0m\u001b[0;34m\u001b[0m\u001b[0m\n\u001b[1;32m   1551\u001b[0m             \u001b[0mdata\u001b[0m\u001b[0;34m.\u001b[0m\u001b[0mctypes\u001b[0m\u001b[0;34m.\u001b[0m\u001b[0mdata_as\u001b[0m\u001b[0;34m(\u001b[0m\u001b[0mctypes\u001b[0m\u001b[0;34m.\u001b[0m\u001b[0mc_void_p\u001b[0m\u001b[0;34m)\u001b[0m\u001b[0;34m,\u001b[0m\u001b[0;34m\u001b[0m\u001b[0m\n\u001b[0;32m-> 1552\u001b[0;31m             ctypes.c_size_t(data.size)))\n\u001b[0m\u001b[1;32m   1553\u001b[0m         \u001b[0;32mreturn\u001b[0m \u001b[0mdata\u001b[0m\u001b[0;34m\u001b[0m\u001b[0m\n\u001b[1;32m   1554\u001b[0m \u001b[0;34m\u001b[0m\u001b[0m\n",
      "\u001b[0;31mKeyboardInterrupt\u001b[0m: "
     ]
    }
   ],
   "source": [
    "stop = False\n",
    "cb = earlyStopping(patience = 2)\n",
    "e = 1\n",
    "\n",
    "while stop == False:\n",
    "    for i, (data, label) in enumerate(train_data):\n",
    "        data = data.as_in_context(ctx)\n",
    "        label = label.as_in_context(ctx)\n",
    "        with autograd.record():\n",
    "            output = net(data)\n",
    "            loss = softmax_cross_entropy(output, label)\n",
    "        loss.backward()\n",
    "        trainer.step(data.shape[0], )        \n",
    "        curr_loss = nd.mean(loss).asscalar()\n",
    "        \n",
    "    test_accuracy = evaluate_accuracy(test_data, net)\n",
    "    train_accuracy = evaluate_accuracy(train_data, net)\n",
    "    print(\"Epoch {}. Loss: {}, Train_acc {}, Test_acc {}\".format(e, curr_loss, train_accuracy, test_accuracy))\n",
    "    stop = ES.early_stopping(curr_loss, e)\n",
    "    e += 1"
   ]
  },
  {
   "cell_type": "code",
   "execution_count": 231,
   "metadata": {
    "collapsed": false
   },
   "outputs": [],
   "source": []
  },
  {
   "cell_type": "code",
   "execution_count": null,
   "metadata": {
    "collapsed": true
   },
   "outputs": [],
   "source": []
  },
  {
   "cell_type": "code",
   "execution_count": null,
   "metadata": {
    "collapsed": true
   },
   "outputs": [],
   "source": []
  }
 ],
 "metadata": {
  "kernelspec": {
   "display_name": "Python 3",
   "language": "python",
   "name": "python3"
  },
  "language_info": {
   "codemirror_mode": {
    "name": "ipython",
    "version": 3
   },
   "file_extension": ".py",
   "mimetype": "text/x-python",
   "name": "python",
   "nbconvert_exporter": "python",
   "pygments_lexer": "ipython3",
   "version": "3.6.0"
  }
 },
 "nbformat": 4,
 "nbformat_minor": 2
}
